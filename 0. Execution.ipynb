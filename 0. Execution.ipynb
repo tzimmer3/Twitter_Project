{
 "cells": [
  {
   "cell_type": "code",
   "execution_count": 1,
   "metadata": {},
   "outputs": [
    {
     "name": "stderr",
     "output_type": "stream",
     "text": [
      "c:\\Users\\t_zim\\miniconda3\\lib\\site-packages\\tqdm\\auto.py:22: TqdmWarning: IProgress not found. Please update jupyter and ipywidgets. See https://ipywidgets.readthedocs.io/en/stable/user_install.html\n",
      "  from .autonotebook import tqdm as notebook_tqdm\n"
     ]
    }
   ],
   "source": [
    "# Import packages\n",
    "import re\n",
    "import os\n",
    "import string\n",
    "import numpy as np\n",
    "import pandas as pd\n",
    "from datetime import date\n",
    "import matplotlib.pyplot as plt\n",
    "\n",
    "# Analytics/Metrics\n",
    "from bertopic import BERTopic\n",
    "from sentence_transformers import SentenceTransformer\n",
    "from sklearn.feature_extraction.text import CountVectorizer\n",
    "\n",
    "\n",
    "## TWEEPY STUFF\n",
    "# Twitter Authentication\n",
    "from src import ACCESS_TOKEN, ACCESS_TOKEN_SECRET, CONSUMER_KEY, CONSUMER_SECRET\n",
    "# Twitter Scraping Class\n",
    "from src import TwitterClient\n",
    "# Class for cleanup\n",
    "from src import TweetAnalyzer\n",
    "# NLP and Metrics\n",
    "\n",
    "# Visualization\n"
   ]
  },
  {
   "attachments": {},
   "cell_type": "markdown",
   "metadata": {},
   "source": [
    "## Project Methodology"
   ]
  },
  {
   "attachments": {},
   "cell_type": "markdown",
   "metadata": {},
   "source": [
    "- [User Input] - Input query terms\n",
    "- [Tweet Scraping] - Execute query on one term at a time (username or string) <- NOT DOING STRING YET\n",
    "- [Tweet Cleaning] - Clean tweets and format into dataframe\n",
    "- [Tweet Engineering] - Combine dataframes for all query terms in a subject area\n",
    "- [NLP and Metrics] - Compute metrics and transformations\n",
    "- [Visualize]"
   ]
  },
  {
   "attachments": {},
   "cell_type": "markdown",
   "metadata": {},
   "source": [
    "## Query Terms"
   ]
  },
  {
   "cell_type": "code",
   "execution_count": 22,
   "metadata": {},
   "outputs": [],
   "source": [
    "#SUBJECT = \"Space\"\n",
    "\n",
    "Number_of_Tweets = 250\n",
    "\n",
    "# Input a screen name and see their recent tweets\n",
    "#USER = 'NASA'\n",
    "\n",
    "# Input a list of query terms and GET tweets\n",
    "#QUERY = ['NASA', 'space station', 'hubble']\n",
    "\n",
    "SUBJECT = \"Grammys\"\n",
    "USER = 'RecordingAcad'\n",
    "QUERY = ['grammy', 'winner', 'best', 'album']"
   ]
  },
  {
   "attachments": {},
   "cell_type": "markdown",
   "metadata": {},
   "source": [
    "## Tweet Scraping"
   ]
  },
  {
   "attachments": {},
   "cell_type": "markdown",
   "metadata": {},
   "source": [
    "### By User Name"
   ]
  },
  {
   "cell_type": "code",
   "execution_count": 23,
   "metadata": {},
   "outputs": [
    {
     "name": "stderr",
     "output_type": "stream",
     "text": [
      "Unexpected parameter: id\n",
      "Unexpected parameter: id\n",
      "Unexpected parameter: id\n",
      "Unexpected parameter: id\n"
     ]
    }
   ],
   "source": [
    "# Config params\n",
    "twitter_client = TwitterClient(twitter_user=USER)\n",
    "\n",
    "# Print if you wish\n",
    "#print(twitter_client.get_user_timeline_tweets(Number_of_Tweets))\n",
    "\n",
    "# Retrieve tweets\n",
    "tweets = twitter_client.get_user_timeline_tweets(Number_of_Tweets)\n",
    "# Format tweets into DF\n",
    "tweet_cleaner = TweetAnalyzer()\n",
    "df = tweet_cleaner.tweets_to_data_frame(tweets)"
   ]
  },
  {
   "attachments": {},
   "cell_type": "markdown",
   "metadata": {},
   "source": [
    "### By Search Term"
   ]
  },
  {
   "cell_type": "code",
   "execution_count": 13,
   "metadata": {},
   "outputs": [],
   "source": [
    "# Config params\n",
    "twitter_client = TwitterClient(query_term=QUERY)\n",
    "\n",
    "# Print if you wish\n",
    "#print(twitter_client.get_query_tweets(Number_of_Tweets))\n",
    "\n",
    "# Retrieve tweets\n",
    "tweets = twitter_client.get_query_tweets(Number_of_Tweets)\n",
    "# Format tweets into DF\n",
    "tweet_cleaner = TweetAnalyzer()\n",
    "df = tweet_cleaner.tweets_to_data_frame(tweets)"
   ]
  },
  {
   "attachments": {},
   "cell_type": "markdown",
   "metadata": {},
   "source": [
    "## Tweet Cleaning"
   ]
  },
  {
   "attachments": {},
   "cell_type": "markdown",
   "metadata": {},
   "source": [
    "Steps:\n",
    "- Remove extra columns\n",
    "- Remove unnecessary characters\n",
    "- Remove HTML tags, hyperlinks"
   ]
  },
  {
   "cell_type": "code",
   "execution_count": 4,
   "metadata": {},
   "outputs": [],
   "source": [
    "#df = pd.read_csv(\"C:\\\\Users\\\\hlmq\\\\OneDrive - Chevron\\\\Desktop\\\\Projects\\\\Twitter News\\\\sample tweets\\\\1000tweets.csv\")\n",
    "df = pd.read_csv(\"C:\\\\Users\\\\t_zim\\\\Desktop\\\\Projects\\\\Twitter_Project\\\\1000_python_tweets.csv\")\n"
   ]
  },
  {
   "cell_type": "code",
   "execution_count": 24,
   "metadata": {},
   "outputs": [],
   "source": [
    "# Extract pieces out of tweets and put into df columns\n",
    "df['hashtags'] = df['tweet'].apply(TweetAnalyzer.extract_hashtags)\n",
    "df['mentions'] = df['tweet'].apply(TweetAnalyzer.extract_mentions)\n",
    "\n",
    "# Clean special characters from tweet text\n",
    "df['tweet'] = df['tweet'].apply(TweetAnalyzer.clean_special_chars)\n",
    "\n",
    "# Compute length of each tweet (exclude really short ones)\n",
    "df['tweet_length'] = df['tweet'].apply(TweetAnalyzer.count_caption_words)\n",
    "\n",
    "# Remove short tweets.  Require that tweet is minimum of 5 words long.\n",
    "df = df[df['tweet_length']>5]"
   ]
  },
  {
   "attachments": {},
   "cell_type": "markdown",
   "metadata": {},
   "source": [
    "## Tweet File Joining"
   ]
  },
  {
   "cell_type": "code",
   "execution_count": 6,
   "metadata": {},
   "outputs": [],
   "source": [
    "# Combine datasets for a subject area"
   ]
  },
  {
   "attachments": {},
   "cell_type": "markdown",
   "metadata": {},
   "source": [
    "## NLP and Metrics"
   ]
  },
  {
   "attachments": {},
   "cell_type": "markdown",
   "metadata": {},
   "source": [
    "Steps:\n",
    "\n",
    "- Topic Modeling (BERTopic)\n",
    "\n",
    "- Analyze Sentiment for each tweet\n",
    "- Count # of tweets in subject [GLOBAL]\n",
    "- Count # of tweets in topic [Local]\n",
    "- CountWordFrequency across subject\n",
    "- Log accounts (most frequent mentions or other?)\n"
   ]
  },
  {
   "cell_type": "code",
   "execution_count": 25,
   "metadata": {},
   "outputs": [
    {
     "name": "stderr",
     "output_type": "stream",
     "text": [
      "Batches: 100%|██████████| 2/2 [00:01<00:00,  1.86it/s]\n",
      "2023-02-05 22:20:55,502 - BERTopic - Reduced dimensionality\n",
      "2023-02-05 22:20:55,516 - BERTopic - Clustered reduced embeddings\n"
     ]
    },
    {
     "ename": "ValueError",
     "evalue": "max_df corresponds to < documents than min_df",
     "output_type": "error",
     "traceback": [
      "\u001b[1;31m---------------------------------------------------------------------------\u001b[0m",
      "\u001b[1;31mValueError\u001b[0m                                Traceback (most recent call last)",
      "\u001b[1;32mc:\\Users\\t_zim\\Desktop\\Projects\\Twitter_Project\\0. Execution.ipynb Cell 19\u001b[0m in \u001b[0;36m<cell line: 14>\u001b[1;34m()\u001b[0m\n\u001b[0;32m      <a href='vscode-notebook-cell:/c%3A/Users/t_zim/Desktop/Projects/Twitter_Project/0.%20Execution.ipynb#X24sZmlsZQ%3D%3D?line=5'>6</a>\u001b[0m vectorizer_model \u001b[39m=\u001b[39m CountVectorizer(ngram_range\u001b[39m=\u001b[39m(\u001b[39m1\u001b[39m, \u001b[39m2\u001b[39m), stop_words\u001b[39m=\u001b[39m\u001b[39m\"\u001b[39m\u001b[39menglish\u001b[39m\u001b[39m\"\u001b[39m, min_df\u001b[39m=\u001b[39m\u001b[39m2\u001b[39m)\n\u001b[0;32m      <a href='vscode-notebook-cell:/c%3A/Users/t_zim/Desktop/Projects/Twitter_Project/0.%20Execution.ipynb#X24sZmlsZQ%3D%3D?line=7'>8</a>\u001b[0m topic_model \u001b[39m=\u001b[39m BERTopic(nr_topics \u001b[39m=\u001b[39m \u001b[39m10\u001b[39m, \u001b[39m#max number of topics\u001b[39;00m\n\u001b[0;32m      <a href='vscode-notebook-cell:/c%3A/Users/t_zim/Desktop/Projects/Twitter_Project/0.%20Execution.ipynb#X24sZmlsZQ%3D%3D?line=8'>9</a>\u001b[0m                        language \u001b[39m=\u001b[39m \u001b[39m'\u001b[39m\u001b[39menglish\u001b[39m\u001b[39m'\u001b[39m,\n\u001b[0;32m     <a href='vscode-notebook-cell:/c%3A/Users/t_zim/Desktop/Projects/Twitter_Project/0.%20Execution.ipynb#X24sZmlsZQ%3D%3D?line=9'>10</a>\u001b[0m                        vectorizer_model \u001b[39m=\u001b[39m vectorizer_model,\n\u001b[0;32m     <a href='vscode-notebook-cell:/c%3A/Users/t_zim/Desktop/Projects/Twitter_Project/0.%20Execution.ipynb#X24sZmlsZQ%3D%3D?line=10'>11</a>\u001b[0m                        calculate_probabilities \u001b[39m=\u001b[39m \u001b[39mTrue\u001b[39;00m,\n\u001b[0;32m     <a href='vscode-notebook-cell:/c%3A/Users/t_zim/Desktop/Projects/Twitter_Project/0.%20Execution.ipynb#X24sZmlsZQ%3D%3D?line=11'>12</a>\u001b[0m                        verbose\u001b[39m=\u001b[39m\u001b[39mTrue\u001b[39;00m)\n\u001b[1;32m---> <a href='vscode-notebook-cell:/c%3A/Users/t_zim/Desktop/Projects/Twitter_Project/0.%20Execution.ipynb#X24sZmlsZQ%3D%3D?line=13'>14</a>\u001b[0m topics, probabilities \u001b[39m=\u001b[39m topic_model\u001b[39m.\u001b[39;49mfit_transform(docs, embeddings)\n",
      "File \u001b[1;32mc:\\Users\\t_zim\\miniconda3\\lib\\site-packages\\bertopic\\_bertopic.py:361\u001b[0m, in \u001b[0;36mBERTopic.fit_transform\u001b[1;34m(self, documents, embeddings, y)\u001b[0m\n\u001b[0;32m    358\u001b[0m     documents \u001b[39m=\u001b[39m \u001b[39mself\u001b[39m\u001b[39m.\u001b[39m_sort_mappings_by_frequency(documents)\n\u001b[0;32m    360\u001b[0m \u001b[39m# Extract topics by calculating c-TF-IDF\u001b[39;00m\n\u001b[1;32m--> 361\u001b[0m \u001b[39mself\u001b[39;49m\u001b[39m.\u001b[39;49m_extract_topics(documents)\n\u001b[0;32m    363\u001b[0m \u001b[39m# Reduce topics\u001b[39;00m\n\u001b[0;32m    364\u001b[0m \u001b[39mif\u001b[39;00m \u001b[39mself\u001b[39m\u001b[39m.\u001b[39mnr_topics:\n",
      "File \u001b[1;32mc:\\Users\\t_zim\\miniconda3\\lib\\site-packages\\bertopic\\_bertopic.py:2943\u001b[0m, in \u001b[0;36mBERTopic._extract_topics\u001b[1;34m(self, documents)\u001b[0m\n\u001b[0;32m   2934\u001b[0m \u001b[39m\"\"\" Extract topics from the clusters using a class-based TF-IDF\u001b[39;00m\n\u001b[0;32m   2935\u001b[0m \n\u001b[0;32m   2936\u001b[0m \u001b[39mArguments:\u001b[39;00m\n\u001b[1;32m   (...)\u001b[0m\n\u001b[0;32m   2940\u001b[0m \u001b[39m    c_tf_idf: The resulting matrix giving a value (importance score) for each word per topic\u001b[39;00m\n\u001b[0;32m   2941\u001b[0m \u001b[39m\"\"\"\u001b[39;00m\n\u001b[0;32m   2942\u001b[0m documents_per_topic \u001b[39m=\u001b[39m documents\u001b[39m.\u001b[39mgroupby([\u001b[39m'\u001b[39m\u001b[39mTopic\u001b[39m\u001b[39m'\u001b[39m], as_index\u001b[39m=\u001b[39m\u001b[39mFalse\u001b[39;00m)\u001b[39m.\u001b[39magg({\u001b[39m'\u001b[39m\u001b[39mDocument\u001b[39m\u001b[39m'\u001b[39m: \u001b[39m'\u001b[39m\u001b[39m \u001b[39m\u001b[39m'\u001b[39m\u001b[39m.\u001b[39mjoin})\n\u001b[1;32m-> 2943\u001b[0m \u001b[39mself\u001b[39m\u001b[39m.\u001b[39mc_tf_idf_, words \u001b[39m=\u001b[39m \u001b[39mself\u001b[39;49m\u001b[39m.\u001b[39;49m_c_tf_idf(documents_per_topic)\n\u001b[0;32m   2944\u001b[0m \u001b[39mself\u001b[39m\u001b[39m.\u001b[39mtopic_representations_ \u001b[39m=\u001b[39m \u001b[39mself\u001b[39m\u001b[39m.\u001b[39m_extract_words_per_topic(words)\n\u001b[0;32m   2945\u001b[0m \u001b[39mself\u001b[39m\u001b[39m.\u001b[39m_create_topic_vectors()\n",
      "File \u001b[1;32mc:\\Users\\t_zim\\miniconda3\\lib\\site-packages\\bertopic\\_bertopic.py:3097\u001b[0m, in \u001b[0;36mBERTopic._c_tf_idf\u001b[1;34m(self, documents_per_topic, fit, partial_fit)\u001b[0m\n\u001b[0;32m   3095\u001b[0m     X \u001b[39m=\u001b[39m \u001b[39mself\u001b[39m\u001b[39m.\u001b[39mvectorizer_model\u001b[39m.\u001b[39mpartial_fit(documents)\u001b[39m.\u001b[39mupdate_bow(documents)\n\u001b[0;32m   3096\u001b[0m \u001b[39melif\u001b[39;00m fit:\n\u001b[1;32m-> 3097\u001b[0m     \u001b[39mself\u001b[39;49m\u001b[39m.\u001b[39;49mvectorizer_model\u001b[39m.\u001b[39;49mfit(documents)\n\u001b[0;32m   3098\u001b[0m     X \u001b[39m=\u001b[39m \u001b[39mself\u001b[39m\u001b[39m.\u001b[39mvectorizer_model\u001b[39m.\u001b[39mtransform(documents)\n\u001b[0;32m   3099\u001b[0m \u001b[39melse\u001b[39;00m:\n",
      "File \u001b[1;32mc:\\Users\\t_zim\\miniconda3\\lib\\site-packages\\sklearn\\feature_extraction\\text.py:1338\u001b[0m, in \u001b[0;36mCountVectorizer.fit\u001b[1;34m(self, raw_documents, y)\u001b[0m\n\u001b[0;32m   1322\u001b[0m \u001b[39mdef\u001b[39;00m \u001b[39mfit\u001b[39m(\u001b[39mself\u001b[39m, raw_documents, y\u001b[39m=\u001b[39m\u001b[39mNone\u001b[39;00m):\n\u001b[0;32m   1323\u001b[0m     \u001b[39m\"\"\"Learn a vocabulary dictionary of all tokens in the raw documents.\u001b[39;00m\n\u001b[0;32m   1324\u001b[0m \n\u001b[0;32m   1325\u001b[0m \u001b[39m    Parameters\u001b[39;00m\n\u001b[1;32m   (...)\u001b[0m\n\u001b[0;32m   1336\u001b[0m \u001b[39m        Fitted vectorizer.\u001b[39;00m\n\u001b[0;32m   1337\u001b[0m \u001b[39m    \"\"\"\u001b[39;00m\n\u001b[1;32m-> 1338\u001b[0m     \u001b[39mself\u001b[39;49m\u001b[39m.\u001b[39;49mfit_transform(raw_documents)\n\u001b[0;32m   1339\u001b[0m     \u001b[39mreturn\u001b[39;00m \u001b[39mself\u001b[39m\n",
      "File \u001b[1;32mc:\\Users\\t_zim\\miniconda3\\lib\\site-packages\\sklearn\\feature_extraction\\text.py:1397\u001b[0m, in \u001b[0;36mCountVectorizer.fit_transform\u001b[1;34m(self, raw_documents, y)\u001b[0m\n\u001b[0;32m   1395\u001b[0m min_doc_count \u001b[39m=\u001b[39m min_df \u001b[39mif\u001b[39;00m \u001b[39misinstance\u001b[39m(min_df, Integral) \u001b[39melse\u001b[39;00m min_df \u001b[39m*\u001b[39m n_doc\n\u001b[0;32m   1396\u001b[0m \u001b[39mif\u001b[39;00m max_doc_count \u001b[39m<\u001b[39m min_doc_count:\n\u001b[1;32m-> 1397\u001b[0m     \u001b[39mraise\u001b[39;00m \u001b[39mValueError\u001b[39;00m(\u001b[39m\"\u001b[39m\u001b[39mmax_df corresponds to < documents than min_df\u001b[39m\u001b[39m\"\u001b[39m)\n\u001b[0;32m   1398\u001b[0m \u001b[39mif\u001b[39;00m max_features \u001b[39mis\u001b[39;00m \u001b[39mnot\u001b[39;00m \u001b[39mNone\u001b[39;00m:\n\u001b[0;32m   1399\u001b[0m     X \u001b[39m=\u001b[39m \u001b[39mself\u001b[39m\u001b[39m.\u001b[39m_sort_features(X, vocabulary)\n",
      "\u001b[1;31mValueError\u001b[0m: max_df corresponds to < documents than min_df"
     ]
    }
   ],
   "source": [
    "# Prepare embeddings\n",
    "docs = df['tweet'].tolist()\n",
    "sentence_model = SentenceTransformer(\"all-MiniLM-L6-v2\")\n",
    "embeddings = sentence_model.encode(docs, show_progress_bar=True)\n",
    "\n",
    "vectorizer_model = CountVectorizer(ngram_range=(1, 2), stop_words=\"english\", min_df=2)\n",
    "\n",
    "topic_model = BERTopic(nr_topics = 10, #max number of topics\n",
    "                       language = 'english',\n",
    "                       vectorizer_model = vectorizer_model,\n",
    "                       calculate_probabilities = True,\n",
    "                       verbose=True)\n",
    "\n",
    "topics, probabilities = topic_model.fit_transform(docs, embeddings)"
   ]
  },
  {
   "cell_type": "code",
   "execution_count": 26,
   "metadata": {},
   "outputs": [
    {
     "data": {
      "text/html": [
       "<div>\n",
       "<style scoped>\n",
       "    .dataframe tbody tr th:only-of-type {\n",
       "        vertical-align: middle;\n",
       "    }\n",
       "\n",
       "    .dataframe tbody tr th {\n",
       "        vertical-align: top;\n",
       "    }\n",
       "\n",
       "    .dataframe thead th {\n",
       "        text-align: right;\n",
       "    }\n",
       "</style>\n",
       "<table border=\"1\" class=\"dataframe\">\n",
       "  <thead>\n",
       "    <tr style=\"text-align: right;\">\n",
       "      <th></th>\n",
       "      <th>Topic</th>\n",
       "      <th>Count</th>\n",
       "    </tr>\n",
       "  </thead>\n",
       "  <tbody>\n",
       "    <tr>\n",
       "      <th>0</th>\n",
       "      <td>-1</td>\n",
       "      <td>46</td>\n",
       "    </tr>\n",
       "  </tbody>\n",
       "</table>\n",
       "</div>"
      ],
      "text/plain": [
       "   Topic  Count\n",
       "0     -1     46"
      ]
     },
     "execution_count": 26,
     "metadata": {},
     "output_type": "execute_result"
    }
   ],
   "source": [
    "# Topic -1 is the catch-all bin for outliers.\n",
    "# Need to modify min_df.  Believe this is the minimum number of obs to create a topic.\n",
    "# From word frequency, believe ngram = 2 is good.\n",
    "# ACTION: Generate more tweets and test with different min_df value.\n",
    "\n",
    "topic_model.get_topic_freq().head()"
   ]
  },
  {
   "cell_type": "code",
   "execution_count": 27,
   "metadata": {},
   "outputs": [
    {
     "ename": "TypeError",
     "evalue": "'NoneType' object is not callable",
     "output_type": "error",
     "traceback": [
      "\u001b[1;31m---------------------------------------------------------------------------\u001b[0m",
      "\u001b[1;31mTypeError\u001b[0m                                 Traceback (most recent call last)",
      "\u001b[1;32mc:\\Users\\t_zim\\Desktop\\Projects\\Twitter_Project\\0. Execution.ipynb Cell 21\u001b[0m in \u001b[0;36m<cell line: 1>\u001b[1;34m()\u001b[0m\n\u001b[1;32m----> <a href='vscode-notebook-cell:/c%3A/Users/t_zim/Desktop/Projects/Twitter_Project/0.%20Execution.ipynb#X26sZmlsZQ%3D%3D?line=0'>1</a>\u001b[0m topic_model\u001b[39m.\u001b[39;49mget_topic_info()\n",
      "File \u001b[1;32mc:\\Users\\t_zim\\miniconda3\\lib\\site-packages\\bertopic\\_bertopic.py:1366\u001b[0m, in \u001b[0;36mBERTopic.get_topic_info\u001b[1;34m(self, topic)\u001b[0m\n\u001b[0;32m   1363\u001b[0m check_is_fitted(\u001b[39mself\u001b[39m)\n\u001b[0;32m   1365\u001b[0m info \u001b[39m=\u001b[39m pd\u001b[39m.\u001b[39mDataFrame(\u001b[39mself\u001b[39m\u001b[39m.\u001b[39mtopic_sizes_\u001b[39m.\u001b[39mitems(), columns\u001b[39m=\u001b[39m[\u001b[39m\"\u001b[39m\u001b[39mTopic\u001b[39m\u001b[39m\"\u001b[39m, \u001b[39m\"\u001b[39m\u001b[39mCount\u001b[39m\u001b[39m\"\u001b[39m])\u001b[39m.\u001b[39msort_values(\u001b[39m\"\u001b[39m\u001b[39mTopic\u001b[39m\u001b[39m\"\u001b[39m)\n\u001b[1;32m-> 1366\u001b[0m info[\u001b[39m\"\u001b[39m\u001b[39mName\u001b[39m\u001b[39m\"\u001b[39m] \u001b[39m=\u001b[39m info\u001b[39m.\u001b[39;49mTopic\u001b[39m.\u001b[39;49mmap(\u001b[39mself\u001b[39;49m\u001b[39m.\u001b[39;49mtopic_labels_)\n\u001b[0;32m   1368\u001b[0m \u001b[39mif\u001b[39;00m \u001b[39mself\u001b[39m\u001b[39m.\u001b[39mcustom_labels_ \u001b[39mis\u001b[39;00m \u001b[39mnot\u001b[39;00m \u001b[39mNone\u001b[39;00m:\n\u001b[0;32m   1369\u001b[0m     \u001b[39mif\u001b[39;00m \u001b[39mlen\u001b[39m(\u001b[39mself\u001b[39m\u001b[39m.\u001b[39mcustom_labels_) \u001b[39m==\u001b[39m \u001b[39mlen\u001b[39m(info):\n",
      "File \u001b[1;32mc:\\Users\\t_zim\\miniconda3\\lib\\site-packages\\pandas\\core\\series.py:4237\u001b[0m, in \u001b[0;36mSeries.map\u001b[1;34m(self, arg, na_action)\u001b[0m\n\u001b[0;32m   4162\u001b[0m \u001b[39mdef\u001b[39;00m \u001b[39mmap\u001b[39m(\u001b[39mself\u001b[39m, arg, na_action\u001b[39m=\u001b[39m\u001b[39mNone\u001b[39;00m) \u001b[39m-\u001b[39m\u001b[39m>\u001b[39m Series:\n\u001b[0;32m   4163\u001b[0m     \u001b[39m\"\"\"\u001b[39;00m\n\u001b[0;32m   4164\u001b[0m \u001b[39m    Map values of Series according to an input mapping or function.\u001b[39;00m\n\u001b[0;32m   4165\u001b[0m \n\u001b[1;32m   (...)\u001b[0m\n\u001b[0;32m   4235\u001b[0m \u001b[39m    dtype: object\u001b[39;00m\n\u001b[0;32m   4236\u001b[0m \u001b[39m    \"\"\"\u001b[39;00m\n\u001b[1;32m-> 4237\u001b[0m     new_values \u001b[39m=\u001b[39m \u001b[39mself\u001b[39;49m\u001b[39m.\u001b[39;49m_map_values(arg, na_action\u001b[39m=\u001b[39;49mna_action)\n\u001b[0;32m   4238\u001b[0m     \u001b[39mreturn\u001b[39;00m \u001b[39mself\u001b[39m\u001b[39m.\u001b[39m_constructor(new_values, index\u001b[39m=\u001b[39m\u001b[39mself\u001b[39m\u001b[39m.\u001b[39mindex)\u001b[39m.\u001b[39m__finalize__(\n\u001b[0;32m   4239\u001b[0m         \u001b[39mself\u001b[39m, method\u001b[39m=\u001b[39m\u001b[39m\"\u001b[39m\u001b[39mmap\u001b[39m\u001b[39m\"\u001b[39m\n\u001b[0;32m   4240\u001b[0m     )\n",
      "File \u001b[1;32mc:\\Users\\t_zim\\miniconda3\\lib\\site-packages\\pandas\\core\\base.py:880\u001b[0m, in \u001b[0;36mIndexOpsMixin._map_values\u001b[1;34m(self, mapper, na_action)\u001b[0m\n\u001b[0;32m    877\u001b[0m         \u001b[39mraise\u001b[39;00m \u001b[39mValueError\u001b[39;00m(msg)\n\u001b[0;32m    879\u001b[0m \u001b[39m# mapper is a function\u001b[39;00m\n\u001b[1;32m--> 880\u001b[0m new_values \u001b[39m=\u001b[39m map_f(values, mapper)\n\u001b[0;32m    882\u001b[0m \u001b[39mreturn\u001b[39;00m new_values\n",
      "File \u001b[1;32mc:\\Users\\t_zim\\miniconda3\\lib\\site-packages\\pandas\\_libs\\lib.pyx:2870\u001b[0m, in \u001b[0;36mpandas._libs.lib.map_infer\u001b[1;34m()\u001b[0m\n",
      "\u001b[1;31mTypeError\u001b[0m: 'NoneType' object is not callable"
     ]
    }
   ],
   "source": [
    "topic_model.get_topic_info()"
   ]
  },
  {
   "cell_type": "code",
   "execution_count": 28,
   "metadata": {},
   "outputs": [
    {
     "name": "stdout",
     "output_type": "stream",
     "text": [
      "46\n"
     ]
    }
   ],
   "source": [
    "# Sentiment analysis\n",
    "#df['sentiment'] = np.array([tweet_analyzer.analyze_sentiment(tweet) for tweet in df['tweets']])\n",
    "\n",
    "# Count total len of df\n",
    "total_tweets_in_subject = len(df)\n",
    "print(total_tweets_in_subject)\n",
    "\n",
    "# Count len of df where topic == some value\n",
    "total_tweets_in_topic = []"
   ]
  },
  {
   "cell_type": "code",
   "execution_count": 29,
   "metadata": {},
   "outputs": [
    {
     "data": {
      "text/plain": [
       "Text(0.5, 1.0, 'Most Common Words from this Subject')"
      ]
     },
     "execution_count": 29,
     "metadata": {},
     "output_type": "execute_result"
    },
    {
     "data": {
      "image/png": "[encoded data removed]",
      "text/plain": [
       "<Figure size 500x500 with 1 Axes>"
      ]
     },
     "metadata": {},
     "output_type": "display_data"
    }
   ],
   "source": [
    "# CountWordFrequency\n",
    "\n",
    "#Create DTM\n",
    "cv = CountVectorizer(ngram_range = (1,3), stop_words='english')\n",
    "dtm = cv.fit_transform(df['tweet'])\n",
    "words = np.array(cv.get_feature_names_out())\n",
    "\n",
    "#Look at top 15 most frequent words\n",
    "freqs=dtm.sum(axis=0).A.flatten()\n",
    "index=np.argsort(freqs)[-10:]\n",
    "\n",
    "# Construct dataframe\n",
    "WordFreq = pd.DataFrame.from_records(list(zip(words[index], freqs[index])))\n",
    "WordFreq.columns = ['Word', 'Frequency']\n",
    "\n",
    "# Plot horizontal bar graph\n",
    "fig, ax = plt.subplots(figsize=(5, 5))\n",
    "WordFreq.sort_values(by='Frequency').plot.barh(\n",
    "                      x='Word',\n",
    "                      y='Frequency',\n",
    "                      ax=ax,\n",
    "                      color=\"deepskyblue\")\n",
    "\n",
    "plt.title(\"Most Common Words from this Subject\")"
   ]
  },
  {
   "cell_type": "code",
   "execution_count": 30,
   "metadata": {},
   "outputs": [
    {
     "data": {
      "text/html": [
       "<div>\n",
       "<style scoped>\n",
       "    .dataframe tbody tr th:only-of-type {\n",
       "        vertical-align: middle;\n",
       "    }\n",
       "\n",
       "    .dataframe tbody tr th {\n",
       "        vertical-align: top;\n",
       "    }\n",
       "\n",
       "    .dataframe thead th {\n",
       "        text-align: right;\n",
       "    }\n",
       "</style>\n",
       "<table border=\"1\" class=\"dataframe\">\n",
       "  <thead>\n",
       "    <tr style=\"text-align: right;\">\n",
       "      <th></th>\n",
       "      <th>Mention</th>\n",
       "      <th>Frequency</th>\n",
       "    </tr>\n",
       "  </thead>\n",
       "  <tbody>\n",
       "    <tr>\n",
       "      <th>0</th>\n",
       "      <td>lukecombs</td>\n",
       "      <td>2</td>\n",
       "    </tr>\n",
       "    <tr>\n",
       "      <th>1</th>\n",
       "      <td>CBS</td>\n",
       "      <td>2</td>\n",
       "    </tr>\n",
       "    <tr>\n",
       "      <th>2</th>\n",
       "      <td>Beyonce</td>\n",
       "      <td>2</td>\n",
       "    </tr>\n",
       "    <tr>\n",
       "      <th>3</th>\n",
       "      <td>Adele</td>\n",
       "      <td>2</td>\n",
       "    </tr>\n",
       "    <tr>\n",
       "      <th>4</th>\n",
       "      <td>JoJoWright</td>\n",
       "      <td>1</td>\n",
       "    </tr>\n",
       "  </tbody>\n",
       "</table>\n",
       "</div>"
      ],
      "text/plain": [
       "      Mention  Frequency\n",
       "0   lukecombs          2\n",
       "1         CBS          2\n",
       "2     Beyonce          2\n",
       "3       Adele          2\n",
       "4  JoJoWright          1"
      ]
     },
     "execution_count": 30,
     "metadata": {},
     "output_type": "execute_result"
    }
   ],
   "source": [
    "vectorizer = CountVectorizer(analyzer=lambda x: x)\n",
    "dtm = vectorizer.fit_transform(df['mentions']).toarray()\n",
    "mention = np.array(vectorizer.get_feature_names_out())\n",
    "\n",
    "\n",
    "#Look at top 5 most frequent mentions\n",
    "freqs=dtm.sum(axis=0).flatten()\n",
    "index=np.argsort(freqs)[-5:] \n",
    "\n",
    "# Construct dataframe\n",
    "Mentions = pd.DataFrame.from_records(list(zip(mention[index], freqs[index]))) \n",
    "Mentions.columns = ['Mention', 'Frequency']\n",
    "\n",
    "Mentions.sort_values(by='Frequency', ascending=False, inplace=True)\n",
    "Mentions.reset_index(inplace=True, drop=True)\n",
    "Mentions"
   ]
  },
  {
   "cell_type": "code",
   "execution_count": null,
   "metadata": {},
   "outputs": [],
   "source": []
  },
  {
   "attachments": {},
   "cell_type": "markdown",
   "metadata": {},
   "source": [
    "## Output Dataset"
   ]
  },
  {
   "cell_type": "code",
   "execution_count": null,
   "metadata": {},
   "outputs": [],
   "source": [
    "# Create name of file\n",
    "\n",
    "dirname = \"C:\\\\Users\\\\t_zim\\\\Desktop\\\\Data\\\\Twitter\\\\\"\n",
    "\n",
    "# Just creates the string with {path} and {filename} ready to go\n",
    "OUT_FILE = os.path.join(dirname, \"{timestamp}_{subject}tweets.csv\".format(timestamp=date.today(), subject=SUBJECT))\n",
    "print(OUT_FILE)"
   ]
  },
  {
   "cell_type": "code",
   "execution_count": null,
   "metadata": {},
   "outputs": [],
   "source": [
    "df.to_csv(OUT_FILE, index=False)"
   ]
  }
 ],
 "metadata": {
  "kernelspec": {
   "display_name": "base",
   "language": "python",
   "name": "python3"
  },
  "language_info": {
   "codemirror_mode": {
    "name": "ipython",
    "version": 3
   },
   "file_extension": ".py",
   "mimetype": "text/x-python",
   "name": "python",
   "nbconvert_exporter": "python",
   "pygments_lexer": "ipython3",
   "version": "3.9.13"
  },
  "orig_nbformat": 4,
  "vscode": {
   "interpreter": {
    "hash": "dfb1c0fb3b438a6c436c07e773fd19aa89283209634f1aba4372182bc1049f7d"
   }
  }
 },
 "nbformat": 4,
 "nbformat_minor": 2
}
