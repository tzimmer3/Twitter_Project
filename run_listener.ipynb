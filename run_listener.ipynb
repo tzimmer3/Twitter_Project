{
 "cells": [
  {
   "cell_type": "code",
   "execution_count": 13,
   "metadata": {},
   "outputs": [],
   "source": [
    "import os\n",
    "from datetime import date\n",
    "import pandas as pd\n",
    "\n",
    "from Cursor_and_Pagination import TwitterClient, TwitterAuthenticator, TwitterListener, TwitterStreamer\n",
    "import twitter_credentials"
   ]
  },
  {
   "cell_type": "code",
   "execution_count": 14,
   "metadata": {},
   "outputs": [
    {
     "name": "stdout",
     "output_type": "stream",
     "text": [
      "C:\\Users\\t_zim\\Desktop\\Data\\Twitter\\2023-01-30_tweets.csv\n"
     ]
    }
   ],
   "source": [
    "dirname = \"C:\\\\Users\\\\t_zim\\\\Desktop\\\\Data\\\\Twitter\\\\\"\n",
    "\n",
    "OUT_FILE = os.path.join(dirname, \"{timestamp}_tweets.csv\".format(timestamp=date.today()))\n",
    "print(OUT_FILE)"
   ]
  },
  {
   "cell_type": "markdown",
   "metadata": {},
   "source": [
    "# Scrape Tweets\n",
    "\n",
    "This can be used to go to an individual's account and scrape a specified number of tweets from their homepage."
   ]
  },
  {
   "cell_type": "code",
   "execution_count": 28,
   "metadata": {},
   "outputs": [
    {
     "name": "stderr",
     "output_type": "stream",
     "text": [
      "Unexpected parameter: id\n"
     ]
    },
    {
     "name": "stdout",
     "output_type": "stream",
     "text": [
      "[Status(_api=<tweepy.api.API object at 0x000001EF8A102610>, _json={'created_at': 'Mon Jan 30 22:40:56 +0000 2023', 'id': 1620190353604190210, 'id_str': '1620190353604190210', 'text': 'On Tuesday, Jan. 31, Demo-2 astronauts Douglas Hurley and Robert Behnken will receive the Congressional Space Medal… https://t.co/Hs0T0IPYbR', 'truncated': True, 'entities': {'hashtags': [], 'symbols': [], 'user_mentions': [], 'urls': [{'url': 'https://t.co/Hs0T0IPYbR', 'expanded_url': 'https://twitter.com/i/web/status/1620190353604190210', 'display_url': 'twitter.com/i/web/status/1…', 'indices': [117, 140]}]}, 'source': '<a href=\"https://www.sprinklr.com\" rel=\"nofollow\">Sprinklr</a>', 'in_reply_to_status_id': None, 'in_reply_to_status_id_str': None, 'in_reply_to_user_id': None, 'in_reply_to_user_id_str': None, 'in_reply_to_screen_name': None, 'user': {'id': 11348282, 'id_str': '11348282', 'name': 'NASA', 'screen_name': 'NASA', 'location': 'Pale Blue Dot', 'description': \"There's space for everybody. ✨\", 'url': 'https://t.co/9NkQJKAnuU', 'entities': {'url': {'urls': [{'url': 'https://t.co/9NkQJKAnuU', 'expanded_url': 'http://www.nasa.gov/', 'display_url': 'nasa.gov', 'indices': [0, 23]}]}, 'description': {'urls': []}}, 'protected': False, 'followers_count': 70293200, 'friends_count': 182, 'listed_count': 99710, 'created_at': 'Wed Dec 19 20:20:32 +0000 2007', 'favourites_count': 14779, 'utc_offset': None, 'time_zone': None, 'geo_enabled': False, 'verified': True, 'statuses_count': 69445, 'lang': None, 'contributors_enabled': False, 'is_translator': False, 'is_translation_enabled': False, 'profile_background_color': '000000', 'profile_background_image_url': 'http://abs.twimg.com/images/themes/theme1/bg.png', 'profile_background_image_url_https': 'https://abs.twimg.com/images/themes/theme1/bg.png', 'profile_background_tile': False, 'profile_image_url': 'http://pbs.twimg.com/profile_images/1321163587679784960/0ZxKlEKB_normal.jpg', 'profile_image_url_https': 'https://pbs.twimg.com/profile_images/1321163587679784960/0ZxKlEKB_normal.jpg', 'profile_banner_url': 'https://pbs.twimg.com/profile_banners/11348282/1672941961', 'profile_link_color': '205BA7', 'profile_sidebar_border_color': '000000', 'profile_sidebar_fill_color': 'F3F2F2', 'profile_text_color': '000000', 'profile_use_background_image': True, 'has_extended_profile': True, 'default_profile': False, 'default_profile_image': False, 'following': False, 'follow_request_sent': False, 'notifications': False, 'translator_type': 'regular', 'withheld_in_countries': []}, 'geo': None, 'coordinates': None, 'place': None, 'contributors': None, 'is_quote_status': False, 'retweet_count': 28, 'favorite_count': 182, 'favorited': False, 'retweeted': False, 'possibly_sensitive': False, 'lang': 'en'}, created_at=datetime.datetime(2023, 1, 30, 22, 40, 56, tzinfo=datetime.timezone.utc), id=1620190353604190210, id_str='1620190353604190210', text='On Tuesday, Jan. 31, Demo-2 astronauts Douglas Hurley and Robert Behnken will receive the Congressional Space Medal… https://t.co/Hs0T0IPYbR', truncated=True, entities={'hashtags': [], 'symbols': [], 'user_mentions': [], 'urls': [{'url': 'https://t.co/Hs0T0IPYbR', 'expanded_url': 'https://twitter.com/i/web/status/1620190353604190210', 'display_url': 'twitter.com/i/web/status/1…', 'indices': [117, 140]}]}, source='Sprinklr', source_url='https://www.sprinklr.com', in_reply_to_status_id=None, in_reply_to_status_id_str=None, in_reply_to_user_id=None, in_reply_to_user_id_str=None, in_reply_to_screen_name=None, author=User(_api=<tweepy.api.API object at 0x000001EF8A102610>, _json={'id': 11348282, 'id_str': '11348282', 'name': 'NASA', 'screen_name': 'NASA', 'location': 'Pale Blue Dot', 'description': \"There's space for everybody. ✨\", 'url': 'https://t.co/9NkQJKAnuU', 'entities': {'url': {'urls': [{'url': 'https://t.co/9NkQJKAnuU', 'expanded_url': 'http://www.nasa.gov/', 'display_url': 'nasa.gov', 'indices': [0, 23]}]}, 'description': {'urls': []}}, 'protected': False, 'followers_count': 70293200, 'friends_count': 182, 'listed_count': 99710, 'created_at': 'Wed Dec 19 20:20:32 +0000 2007', 'favourites_count': 14779, 'utc_offset': None, 'time_zone': None, 'geo_enabled': False, 'verified': True, 'statuses_count': 69445, 'lang': None, 'contributors_enabled': False, 'is_translator': False, 'is_translation_enabled': False, 'profile_background_color': '000000', 'profile_background_image_url': 'http://abs.twimg.com/images/themes/theme1/bg.png', 'profile_background_image_url_https': 'https://abs.twimg.com/images/themes/theme1/bg.png', 'profile_background_tile': False, 'profile_image_url': 'http://pbs.twimg.com/profile_images/1321163587679784960/0ZxKlEKB_normal.jpg', 'profile_image_url_https': 'https://pbs.twimg.com/profile_images/1321163587679784960/0ZxKlEKB_normal.jpg', 'profile_banner_url': 'https://pbs.twimg.com/profile_banners/11348282/1672941961', 'profile_link_color': '205BA7', 'profile_sidebar_border_color': '000000', 'profile_sidebar_fill_color': 'F3F2F2', 'profile_text_color': '000000', 'profile_use_background_image': True, 'has_extended_profile': True, 'default_profile': False, 'default_profile_image': False, 'following': False, 'follow_request_sent': False, 'notifications': False, 'translator_type': 'regular', 'withheld_in_countries': []}, id=11348282, id_str='11348282', name='NASA', screen_name='NASA', location='Pale Blue Dot', description=\"There's space for everybody. ✨\", url='https://t.co/9NkQJKAnuU', entities={'url': {'urls': [{'url': 'https://t.co/9NkQJKAnuU', 'expanded_url': 'http://www.nasa.gov/', 'display_url': 'nasa.gov', 'indices': [0, 23]}]}, 'description': {'urls': []}}, protected=False, followers_count=70293200, friends_count=182, listed_count=99710, created_at=datetime.datetime(2007, 12, 19, 20, 20, 32, tzinfo=datetime.timezone.utc), favourites_count=14779, utc_offset=None, time_zone=None, geo_enabled=False, verified=True, statuses_count=69445, lang=None, contributors_enabled=False, is_translator=False, is_translation_enabled=False, profile_background_color='000000', profile_background_image_url='http://abs.twimg.com/images/themes/theme1/bg.png', profile_background_image_url_https='https://abs.twimg.com/images/themes/theme1/bg.png', profile_background_tile=False, profile_image_url='http://pbs.twimg.com/profile_images/1321163587679784960/0ZxKlEKB_normal.jpg', profile_image_url_https='https://pbs.twimg.com/profile_images/1321163587679784960/0ZxKlEKB_normal.jpg', profile_banner_url='https://pbs.twimg.com/profile_banners/11348282/1672941961', profile_link_color='205BA7', profile_sidebar_border_color='000000', profile_sidebar_fill_color='F3F2F2', profile_text_color='000000', profile_use_background_image=True, has_extended_profile=True, default_profile=False, default_profile_image=False, following=False, follow_request_sent=False, notifications=False, translator_type='regular', withheld_in_countries=[]), user=User(_api=<tweepy.api.API object at 0x000001EF8A102610>, _json={'id': 11348282, 'id_str': '11348282', 'name': 'NASA', 'screen_name': 'NASA', 'location': 'Pale Blue Dot', 'description': \"There's space for everybody. ✨\", 'url': 'https://t.co/9NkQJKAnuU', 'entities': {'url': {'urls': [{'url': 'https://t.co/9NkQJKAnuU', 'expanded_url': 'http://www.nasa.gov/', 'display_url': 'nasa.gov', 'indices': [0, 23]}]}, 'description': {'urls': []}}, 'protected': False, 'followers_count': 70293200, 'friends_count': 182, 'listed_count': 99710, 'created_at': 'Wed Dec 19 20:20:32 +0000 2007', 'favourites_count': 14779, 'utc_offset': None, 'time_zone': None, 'geo_enabled': False, 'verified': True, 'statuses_count': 69445, 'lang': None, 'contributors_enabled': False, 'is_translator': False, 'is_translation_enabled': False, 'profile_background_color': '000000', 'profile_background_image_url': 'http://abs.twimg.com/images/themes/theme1/bg.png', 'profile_background_image_url_https': 'https://abs.twimg.com/images/themes/theme1/bg.png', 'profile_background_tile': False, 'profile_image_url': 'http://pbs.twimg.com/profile_images/1321163587679784960/0ZxKlEKB_normal.jpg', 'profile_image_url_https': 'https://pbs.twimg.com/profile_images/1321163587679784960/0ZxKlEKB_normal.jpg', 'profile_banner_url': 'https://pbs.twimg.com/profile_banners/11348282/1672941961', 'profile_link_color': '205BA7', 'profile_sidebar_border_color': '000000', 'profile_sidebar_fill_color': 'F3F2F2', 'profile_text_color': '000000', 'profile_use_background_image': True, 'has_extended_profile': True, 'default_profile': False, 'default_profile_image': False, 'following': False, 'follow_request_sent': False, 'notifications': False, 'translator_type': 'regular', 'withheld_in_countries': []}, id=11348282, id_str='11348282', name='NASA', screen_name='NASA', location='Pale Blue Dot', description=\"There's space for everybody. ✨\", url='https://t.co/9NkQJKAnuU', entities={'url': {'urls': [{'url': 'https://t.co/9NkQJKAnuU', 'expanded_url': 'http://www.nasa.gov/', 'display_url': 'nasa.gov', 'indices': [0, 23]}]}, 'description': {'urls': []}}, protected=False, followers_count=70293200, friends_count=182, listed_count=99710, created_at=datetime.datetime(2007, 12, 19, 20, 20, 32, tzinfo=datetime.timezone.utc), favourites_count=14779, utc_offset=None, time_zone=None, geo_enabled=False, verified=True, statuses_count=69445, lang=None, contributors_enabled=False, is_translator=False, is_translation_enabled=False, profile_background_color='000000', profile_background_image_url='http://abs.twimg.com/images/themes/theme1/bg.png', profile_background_image_url_https='https://abs.twimg.com/images/themes/theme1/bg.png', profile_background_tile=False, profile_image_url='http://pbs.twimg.com/profile_images/1321163587679784960/0ZxKlEKB_normal.jpg', profile_image_url_https='https://pbs.twimg.com/profile_images/1321163587679784960/0ZxKlEKB_normal.jpg', profile_banner_url='https://pbs.twimg.com/profile_banners/11348282/1672941961', profile_link_color='205BA7', profile_sidebar_border_color='000000', profile_sidebar_fill_color='F3F2F2', profile_text_color='000000', profile_use_background_image=True, has_extended_profile=True, default_profile=False, default_profile_image=False, following=False, follow_request_sent=False, notifications=False, translator_type='regular', withheld_in_countries=[]), geo=None, coordinates=None, place=None, contributors=None, is_quote_status=False, retweet_count=28, favorite_count=182, favorited=False, retweeted=False, possibly_sensitive=False, lang='en')]\n"
     ]
    }
   ],
   "source": [
    "# Authenticate using config.py and connect to Twitter Streaming API.\n",
    "\n",
    "# Input a screen name and see their recent tweets\n",
    "USER = 'NASA'\n",
    "Number_of_Tweets = 1\n",
    "\n",
    "twitter_client = TwitterClient(USER)\n",
    "print(twitter_client.get_user_timeline_tweets(Number_of_Tweets))"
   ]
  },
  {
   "cell_type": "code",
   "execution_count": null,
   "metadata": {},
   "outputs": [],
   "source": []
  }
 ],
 "metadata": {
  "kernelspec": {
   "display_name": "Python 3.9.13 ('base')",
   "language": "python",
   "name": "python3"
  },
  "language_info": {
   "codemirror_mode": {
    "name": "ipython",
    "version": 3
   },
   "file_extension": ".py",
   "mimetype": "text/x-python",
   "name": "python",
   "nbconvert_exporter": "python",
   "pygments_lexer": "ipython3",
   "version": "3.9.13"
  },
  "orig_nbformat": 4,
  "vscode": {
   "interpreter": {
    "hash": "dfb1c0fb3b438a6c436c07e773fd19aa89283209634f1aba4372182bc1049f7d"
   }
  }
 },
 "nbformat": 4,
 "nbformat_minor": 2
}
