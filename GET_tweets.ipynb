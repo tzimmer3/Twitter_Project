{
 "cells": [
  {
   "attachments": {},
   "cell_type": "markdown",
   "metadata": {},
   "source": [
    "# GET Tweets\n",
    "\n",
    "This is a utility notebook for gathering tweets and saving to a file."
   ]
  },
  {
   "cell_type": "code",
   "execution_count": 1,
   "metadata": {},
   "outputs": [],
   "source": [
    "# Import packages\n",
    "import os\n",
    "from datetime import date\n",
    "import pandas as pd\n",
    "import numpy as np\n",
    "\n",
    "# Authentication creds\n",
    "from src import twitter_credentials\n",
    "# Classes for scraping\n",
    "from src import TwitterClient, TwitterAuthenticator, TwitterListener, TwitterStreamer"
   ]
  },
  {
   "cell_type": "code",
   "execution_count": null,
   "metadata": {},
   "outputs": [],
   "source": [
    "dirname = \"C:\\\\Users\\\\t_zim\\\\Desktop\\\\Data\\\\Twitter\\\\\"\n",
    "\n",
    "OUT_FILE = os.path.join(dirname, \"{timestamp}_{topic}_tweets.csv\".format(timestamp=date.today(), topic=\"Politics\"))\n",
    "print(OUT_FILE)"
   ]
  },
  {
   "cell_type": "markdown",
   "metadata": {},
   "source": [
    "# Scrape Tweets\n",
    "\n",
    "This can be used to go to an individual's account and scrape a specified number of tweets from their homepage."
   ]
  },
  {
   "cell_type": "code",
   "execution_count": null,
   "metadata": {},
   "outputs": [],
   "source": [
    "# Input a screen name and see their recent tweets\n",
    "USER = 'NASA'\n",
    "Number_of_Tweets = 200\n",
    "\n",
    "twitter_client = TwitterClient(twitter_user=USER)\n",
    "\n",
    "tweets = twitter_client.get_user_timeline_tweets(Number_of_Tweets)"
   ]
  },
  {
   "cell_type": "code",
   "execution_count": null,
   "metadata": {},
   "outputs": [],
   "source": [
    "## TOO COMPLICATED FOR NOW.  REVISIT IN FUTURE!!\n",
    "# Input a list of hash tags and see recent tweets\n",
    "#hash_tag_list = [\"donald trump\", \"hillary clinton\", \"barack obama\", \"bernie sanders\"]\n",
    "#twitter_streamer = TwitterStreamer()\n",
    "\n",
    "#tweets = twitter_streamer.stream_tweets(OUT_FILE, hash_tag_list)\n",
    "\n",
    "import tweepy\n",
    "\n",
    "auth = TwitterAuthenticator().authenticate_twitter_app()\n",
    "\n",
    "api = tweepy.API(auth)\n",
    "\n",
    "query = 'python'\n",
    "num_tweets = 2\n",
    "searched_tweets = [status for status in tweepy.Cursor(api.search_tweets, q=query).items(num_tweets)]"
   ]
  },
  {
   "cell_type": "code",
   "execution_count": null,
   "metadata": {},
   "outputs": [],
   "source": [
    "# Input a screen name and see their recent tweets\n",
    "QUERY = 'NASA'\n",
    "Number_of_Tweets = 200\n",
    "\n",
    "twitter_client = TwitterClient(query_term=QUERY)\n",
    "#print(twitter_client.get_query_tweets(Number_of_Tweets))\n",
    "tweets = twitter_client.get_query_tweets(Number_of_Tweets)"
   ]
  },
  {
   "cell_type": "code",
   "execution_count": null,
   "metadata": {},
   "outputs": [],
   "source": [
    "len(searched_tweets)"
   ]
  },
  {
   "cell_type": "code",
   "execution_count": null,
   "metadata": {},
   "outputs": [],
   "source": [
    "def tweets_to_data_frame(tweets):\n",
    "    df = pd.DataFrame()#data=[tweet.text for tweet in tweets], columns=['tweets'])\n",
    "\n",
    "    df['id'] = np.array([tweet.id for tweet in tweets])\n",
    "    df['tweet'] = np.array([tweet.text for tweet in tweets])\n",
    "    df['date'] = np.array([tweet.created_at for tweet in tweets])\n",
    "    df['source'] = np.array([tweet.source for tweet in tweets])\n",
    "    df['likes'] = np.array([tweet.favorite_count for tweet in tweets])\n",
    "    df['retweets'] = np.array([tweet.retweet_count for tweet in tweets])\n",
    "\n",
    "    return df\n",
    "\n",
    "df = tweets_to_data_frame(searched_tweets)"
   ]
  },
  {
   "cell_type": "code",
   "execution_count": null,
   "metadata": {},
   "outputs": [],
   "source": [
    "df.tail()"
   ]
  },
  {
   "cell_type": "code",
   "execution_count": null,
   "metadata": {},
   "outputs": [],
   "source": [
    "df.to_csv(\"C:\\\\Users\\\\t_zim\\\\Desktop\\\\Projects\\\\Twitter_Project\\\\1000_python_tweets.csv\", index=False)"
   ]
  },
  {
   "cell_type": "code",
   "execution_count": null,
   "metadata": {},
   "outputs": [],
   "source": []
  }
 ],
 "metadata": {
  "kernelspec": {
   "display_name": "Python 3.9.13 ('base')",
   "language": "python",
   "name": "python3"
  },
  "language_info": {
   "codemirror_mode": {
    "name": "ipython",
    "version": 3
   },
   "file_extension": ".py",
   "mimetype": "text/x-python",
   "name": "python",
   "nbconvert_exporter": "python",
   "pygments_lexer": "ipython3",
   "version": "3.9.13"
  },
  "orig_nbformat": 4,
  "vscode": {
   "interpreter": {
    "hash": "dfb1c0fb3b438a6c436c07e773fd19aa89283209634f1aba4372182bc1049f7d"
   }
  }
 },
 "nbformat": 4,
 "nbformat_minor": 2
}
