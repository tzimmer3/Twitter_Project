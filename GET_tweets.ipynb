{
 "cells": [
  {
   "attachments": {},
   "cell_type": "markdown",
   "metadata": {},
   "source": [
    "# GET Tweets\n",
    "\n",
    "This is a utility notebook for gathering tweets and saving to a file."
   ]
  },
  {
   "cell_type": "code",
   "execution_count": 1,
   "metadata": {},
   "outputs": [],
   "source": [
    "# Import packages\n",
    "import os\n",
    "import numpy as np\n",
    "import pandas as pd\n",
    "from datetime import date\n",
    "\n",
    "## TWEEPY STUFF\n",
    "# Authentication creds\n",
    "from src import twitter_credentials\n",
    "# Classes for scraping\n",
    "from src import TwitterClient, TwitterAuthenticator, TwitterListener, TwitterStreamer\n",
    "# Class for cleanup\n",
    "from src import TweetAnalyzer"
   ]
  },
  {
   "cell_type": "markdown",
   "metadata": {},
   "source": [
    "# Scrape Tweets\n",
    "\n",
    "This can be used to go to an individual's account and scrape a specified number of tweets from their homepage."
   ]
  },
  {
   "cell_type": "code",
   "execution_count": 5,
   "metadata": {},
   "outputs": [
    {
     "name": "stderr",
     "output_type": "stream",
     "text": [
      "Unexpected parameter: id\n"
     ]
    }
   ],
   "source": [
    "# Input a screen name and see their recent tweets\n",
    "USER = 'NASA'\n",
    "Number_of_Tweets = 2\n",
    "\n",
    "# Config params\n",
    "twitter_client = TwitterClient(twitter_user=USER)\n",
    "\n",
    "# Print if you wish\n",
    "#print(twitter_client.get_user_timeline_tweets(Number_of_Tweets))\n",
    "\n",
    "# Retrieve tweets\n",
    "tweets = twitter_client.get_user_timeline_tweets(Number_of_Tweets)\n",
    "# Format tweets into DF\n",
    "df = TweetAnalyzer.tweets_to_data_frame(tweets)"
   ]
  },
  {
   "cell_type": "code",
   "execution_count": 6,
   "metadata": {},
   "outputs": [],
   "source": [
    "# Input a list of query terms and GET tweets\n",
    "QUERY = ['NASA', 'space station', 'hubble']\n",
    "Number_of_Tweets = 2\n",
    "\n",
    "# Config params\n",
    "twitter_client = TwitterClient(query_term=QUERY)\n",
    "\n",
    "# Print if you wish\n",
    "#print(twitter_client.get_query_tweets(Number_of_Tweets))\n",
    "\n",
    "# Retrieve tweets\n",
    "tweets = twitter_client.get_query_tweets(Number_of_Tweets)\n",
    "# Format tweets into DF\n",
    "df = TweetAnalyzer.tweets_to_data_frame(tweets)"
   ]
  },
  {
   "cell_type": "code",
   "execution_count": 9,
   "metadata": {},
   "outputs": [
    {
     "data": {
      "text/html": [
       "<div>\n",
       "<style scoped>\n",
       "    .dataframe tbody tr th:only-of-type {\n",
       "        vertical-align: middle;\n",
       "    }\n",
       "\n",
       "    .dataframe tbody tr th {\n",
       "        vertical-align: top;\n",
       "    }\n",
       "\n",
       "    .dataframe thead th {\n",
       "        text-align: right;\n",
       "    }\n",
       "</style>\n",
       "<table border=\"1\" class=\"dataframe\">\n",
       "  <thead>\n",
       "    <tr style=\"text-align: right;\">\n",
       "      <th></th>\n",
       "      <th>id</th>\n",
       "      <th>tweet</th>\n",
       "      <th>date</th>\n",
       "      <th>source</th>\n",
       "      <th>likes</th>\n",
       "      <th>retweets</th>\n",
       "    </tr>\n",
       "  </thead>\n",
       "  <tbody>\n",
       "    <tr>\n",
       "      <th>0</th>\n",
       "      <td>1620860248742580224</td>\n",
       "      <td>RT @konstructivizm: Abell 3827: Cannibal Clust...</td>\n",
       "      <td>2023-02-01 19:02:52+00:00</td>\n",
       "      <td>Twitter for iPhone</td>\n",
       "      <td>0</td>\n",
       "      <td>36</td>\n",
       "    </tr>\n",
       "    <tr>\n",
       "      <th>1</th>\n",
       "      <td>1619055389781409792</td>\n",
       "      <td>@enilnOpohS @ArcCosmic @Commercial_Crew @NASA_...</td>\n",
       "      <td>2023-01-27 19:31:00+00:00</td>\n",
       "      <td>Twitter Web App</td>\n",
       "      <td>1</td>\n",
       "      <td>0</td>\n",
       "    </tr>\n",
       "  </tbody>\n",
       "</table>\n",
       "</div>"
      ],
      "text/plain": [
       "                    id                                              tweet  \\\n",
       "0  1620860248742580224  RT @konstructivizm: Abell 3827: Cannibal Clust...   \n",
       "1  1619055389781409792  @enilnOpohS @ArcCosmic @Commercial_Crew @NASA_...   \n",
       "\n",
       "                       date              source  likes  retweets  \n",
       "0 2023-02-01 19:02:52+00:00  Twitter for iPhone      0        36  \n",
       "1 2023-01-27 19:31:00+00:00     Twitter Web App      1         0  "
      ]
     },
     "execution_count": 9,
     "metadata": {},
     "output_type": "execute_result"
    }
   ],
   "source": [
    "df.tail()"
   ]
  },
  {
   "cell_type": "code",
   "execution_count": null,
   "metadata": {},
   "outputs": [],
   "source": [
    "#df.to_csv(\"C:\\\\Users\\\\t_zim\\\\Desktop\\\\Projects\\\\Twitter_Project\\\\1000_python_tweets.csv\", index=False)"
   ]
  },
  {
   "cell_type": "code",
   "execution_count": null,
   "metadata": {},
   "outputs": [],
   "source": []
  }
 ],
 "metadata": {
  "kernelspec": {
   "display_name": "Python 3",
   "language": "python",
   "name": "python3"
  },
  "language_info": {
   "codemirror_mode": {
    "name": "ipython",
    "version": 3
   },
   "file_extension": ".py",
   "mimetype": "text/x-python",
   "name": "python",
   "nbconvert_exporter": "python",
   "pygments_lexer": "ipython3",
   "version": "3.10.8 (tags/v3.10.8:aaaf517, Oct 11 2022, 16:50:30) [MSC v.1933 64 bit (AMD64)]"
  },
  "orig_nbformat": 4,
  "vscode": {
   "interpreter": {
    "hash": "369f2c481f4da34e4445cda3fffd2e751bd1c4d706f27375911949ba6bb62e1c"
   }
  }
 },
 "nbformat": 4,
 "nbformat_minor": 2
}
