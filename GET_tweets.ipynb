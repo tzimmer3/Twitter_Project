{
 "cells": [
  {
   "attachments": {},
   "cell_type": "markdown",
   "metadata": {},
   "source": [
    "# GET Tweets\n",
    "\n",
    "This is a utility notebook for gathering tweets and saving to a file."
   ]
  },
  {
   "cell_type": "code",
   "execution_count": 1,
   "metadata": {},
   "outputs": [],
   "source": [
    "# Import packages\n",
    "import os\n",
    "import numpy as np\n",
    "import pandas as pd\n",
    "from datetime import date\n",
    "\n",
    "## TWEEPY STUFF\n",
    "# Authentication creds\n",
    "from src import twitter_credentials\n",
    "# Classes for scraping\n",
    "from src import TwitterClient, TwitterAuthenticator, TwitterListener, TwitterStreamer\n",
    "# Class for cleanup\n",
    "from src import TweetAnalyzer"
   ]
  },
  {
   "cell_type": "markdown",
   "metadata": {},
   "source": [
    "# Scrape Tweets\n",
    "\n",
    "This can be used to go to an individual's account and scrape a specified number of tweets from their homepage."
   ]
  },
  {
   "cell_type": "code",
   "execution_count": 5,
   "metadata": {},
   "outputs": [
    {
     "name": "stderr",
     "output_type": "stream",
     "text": [
      "Unexpected parameter: id\n"
     ]
    }
   ],
   "source": [
    "# Input a screen name and see their recent tweets\n",
    "USER = 'NASA'\n",
    "Number_of_Tweets = 2\n",
    "\n",
    "# Config params\n",
    "twitter_client = TwitterClient(twitter_user=USER)\n",
    "\n",
    "# Print if you wish\n",
    "#print(twitter_client.get_user_timeline_tweets(Number_of_Tweets))\n",
    "\n",
    "# Retrieve tweets\n",
    "tweets = twitter_client.get_user_timeline_tweets(Number_of_Tweets)\n",
    "# Format tweets into DF\n",
    "df = TweetAnalyzer.tweets_to_data_frame(tweets)"
   ]
  },
  {
   "cell_type": "code",
   "execution_count": 8,
   "metadata": {},
   "outputs": [
    {
     "name": "stdout",
     "output_type": "stream",
     "text": [
      "25\n"
     ]
    }
   ],
   "source": [
    "# Input a list of query terms and GET tweets\n",
    "QUERY = ['grammy']\n",
    "Number_of_Tweets = 25\n",
    "\n",
    "# Config params\n",
    "twitter_client = TwitterClient(query_term=QUERY)\n",
    "\n",
    "# Print if you wish\n",
    "#print(twitter_client.get_query_tweets(Number_of_Tweets))\n",
    "\n",
    "# Retrieve tweets\n",
    "tweets = twitter_client.get_query_tweets(Number_of_Tweets)\n",
    "print(len(tweets))\n",
    "# Format tweets into DF\n",
    "tweet_cleaner = TweetAnalyzer()\n",
    "df = tweet_cleaner.tweets_to_data_frame(tweets=tweets)"
   ]
  },
  {
   "cell_type": "code",
   "execution_count": 10,
   "metadata": {},
   "outputs": [
    {
     "data": {
      "text/html": [
       "<div>\n",
       "<style scoped>\n",
       "    .dataframe tbody tr th:only-of-type {\n",
       "        vertical-align: middle;\n",
       "    }\n",
       "\n",
       "    .dataframe tbody tr th {\n",
       "        vertical-align: top;\n",
       "    }\n",
       "\n",
       "    .dataframe thead th {\n",
       "        text-align: right;\n",
       "    }\n",
       "</style>\n",
       "<table border=\"1\" class=\"dataframe\">\n",
       "  <thead>\n",
       "    <tr style=\"text-align: right;\">\n",
       "      <th></th>\n",
       "      <th>tweets</th>\n",
       "      <th>id</th>\n",
       "      <th>tweet</th>\n",
       "      <th>date</th>\n",
       "      <th>source</th>\n",
       "      <th>likes</th>\n",
       "      <th>retweets</th>\n",
       "    </tr>\n",
       "  </thead>\n",
       "  <tbody>\n",
       "    <tr>\n",
       "      <th>20</th>\n",
       "      <td>RT @edibIedreaming: knew harry’s house was a g...</td>\n",
       "      <td>1622447364450680832</td>\n",
       "      <td>RT @edibIedreaming: knew harry’s house was a g...</td>\n",
       "      <td>2023-02-06 04:09:29+00:00</td>\n",
       "      <td>Twitter for iPhone</td>\n",
       "      <td>0</td>\n",
       "      <td>352</td>\n",
       "    </tr>\n",
       "    <tr>\n",
       "      <th>21</th>\n",
       "      <td>RT @louenarcissus: ele ficou sem acreditar sér...</td>\n",
       "      <td>1622447364379213826</td>\n",
       "      <td>RT @louenarcissus: ele ficou sem acreditar sér...</td>\n",
       "      <td>2023-02-06 04:09:29+00:00</td>\n",
       "      <td>Twitter for Android</td>\n",
       "      <td>0</td>\n",
       "      <td>747</td>\n",
       "    </tr>\n",
       "    <tr>\n",
       "      <th>22</th>\n",
       "      <td>e o grammy #13 vai ficar pro ano que vem…</td>\n",
       "      <td>1622447364140158978</td>\n",
       "      <td>e o grammy #13 vai ficar pro ano que vem…</td>\n",
       "      <td>2023-02-06 04:09:29+00:00</td>\n",
       "      <td>Twitter for iPhone</td>\n",
       "      <td>0</td>\n",
       "      <td>0</td>\n",
       "    </tr>\n",
       "    <tr>\n",
       "      <th>23</th>\n",
       "      <td>RT @LilJuMadeDaBeat: I just won a Grammy 😭😭😭😭😭...</td>\n",
       "      <td>1622447364114972673</td>\n",
       "      <td>RT @LilJuMadeDaBeat: I just won a Grammy 😭😭😭😭😭...</td>\n",
       "      <td>2023-02-06 04:09:29+00:00</td>\n",
       "      <td>Twitter for Android</td>\n",
       "      <td>0</td>\n",
       "      <td>579</td>\n",
       "    </tr>\n",
       "    <tr>\n",
       "      <th>24</th>\n",
       "      <td>Kkkkkkk sempre me racho quando o Grammy começa...</td>\n",
       "      <td>1622447363875868673</td>\n",
       "      <td>Kkkkkkk sempre me racho quando o Grammy começa...</td>\n",
       "      <td>2023-02-06 04:09:29+00:00</td>\n",
       "      <td>Twitter for iPhone</td>\n",
       "      <td>0</td>\n",
       "      <td>0</td>\n",
       "    </tr>\n",
       "  </tbody>\n",
       "</table>\n",
       "</div>"
      ],
      "text/plain": [
       "                                               tweets                   id  \\\n",
       "20  RT @edibIedreaming: knew harry’s house was a g...  1622447364450680832   \n",
       "21  RT @louenarcissus: ele ficou sem acreditar sér...  1622447364379213826   \n",
       "22          e o grammy #13 vai ficar pro ano que vem…  1622447364140158978   \n",
       "23  RT @LilJuMadeDaBeat: I just won a Grammy 😭😭😭😭😭...  1622447364114972673   \n",
       "24  Kkkkkkk sempre me racho quando o Grammy começa...  1622447363875868673   \n",
       "\n",
       "                                                tweet  \\\n",
       "20  RT @edibIedreaming: knew harry’s house was a g...   \n",
       "21  RT @louenarcissus: ele ficou sem acreditar sér...   \n",
       "22          e o grammy #13 vai ficar pro ano que vem…   \n",
       "23  RT @LilJuMadeDaBeat: I just won a Grammy 😭😭😭😭😭...   \n",
       "24  Kkkkkkk sempre me racho quando o Grammy começa...   \n",
       "\n",
       "                        date               source  likes  retweets  \n",
       "20 2023-02-06 04:09:29+00:00   Twitter for iPhone      0       352  \n",
       "21 2023-02-06 04:09:29+00:00  Twitter for Android      0       747  \n",
       "22 2023-02-06 04:09:29+00:00   Twitter for iPhone      0         0  \n",
       "23 2023-02-06 04:09:29+00:00  Twitter for Android      0       579  \n",
       "24 2023-02-06 04:09:29+00:00   Twitter for iPhone      0         0  "
      ]
     },
     "execution_count": 10,
     "metadata": {},
     "output_type": "execute_result"
    }
   ],
   "source": [
    "df.tail()"
   ]
  },
  {
   "cell_type": "code",
   "execution_count": null,
   "metadata": {},
   "outputs": [],
   "source": [
    "#df.to_csv(\"C:\\\\Users\\\\t_zim\\\\Desktop\\\\Projects\\\\Twitter_Project\\\\1000_python_tweets.csv\", index=False)"
   ]
  },
  {
   "cell_type": "code",
   "execution_count": null,
   "metadata": {},
   "outputs": [],
   "source": []
  }
 ],
 "metadata": {
  "kernelspec": {
   "display_name": "base",
   "language": "python",
   "name": "python3"
  },
  "language_info": {
   "codemirror_mode": {
    "name": "ipython",
    "version": 3
   },
   "file_extension": ".py",
   "mimetype": "text/x-python",
   "name": "python",
   "nbconvert_exporter": "python",
   "pygments_lexer": "ipython3",
   "version": "3.9.13"
  },
  "orig_nbformat": 4,
  "vscode": {
   "interpreter": {
    "hash": "dfb1c0fb3b438a6c436c07e773fd19aa89283209634f1aba4372182bc1049f7d"
   }
  }
 },
 "nbformat": 4,
 "nbformat_minor": 2
}
